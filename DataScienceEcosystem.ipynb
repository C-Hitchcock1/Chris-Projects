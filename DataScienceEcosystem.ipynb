{
 "cells": [
  {
   "cell_type": "markdown",
   "id": "af0b8201-4b5d-4557-91a9-a8c8f953032a",
   "metadata": {},
   "source": [
    "Data Science Tools and Ecosystem"
   ]
  },
  {
   "cell_type": "markdown",
   "id": "40b3fdc6-e3bc-4ea8-b111-d8a42db8c503",
   "metadata": {},
   "source": [
    "In this notebook, Data Science Tools and Ecosystem are summarized."
   ]
  },
  {
   "cell_type": "markdown",
   "id": "91d7a8e4-30f8-4959-abbb-1edd5e6a31f1",
   "metadata": {},
   "source": [
    "Some of the popular languages that Data Scientists use are:\n",
    "1. Python\n",
    "2. R\n",
    "3. SQP"
   ]
  },
  {
   "cell_type": "markdown",
   "id": "0aa9b350-6334-4a69-b171-9b2091c7b0c7",
   "metadata": {},
   "source": [
    "Some of the commonly used libraries used by Data Scientists include:\n",
    "\n",
    "1.ggplot\n",
    "2.matplotlib\n",
    "3.Pandas"
   ]
  },
  {
   "cell_type": "markdown",
   "id": "c5754cf2-bfbc-40e5-bcdc-24a8c7b67439",
   "metadata": {},
   "source": [
    "**Objectives**\n",
    "- List of Languges\n",
    "- Pandas\n",
    "- Arithemitic\n",
    "\n",
    "\n",
    "\n",
    "\n"
   ]
  },
  {
   "cell_type": "markdown",
   "id": "31f3ca6b-233c-4b5c-a996-a53861ff3dc7",
   "metadata": {},
   "source": [
    "|Data Science Tools |\n",
    "|-------------------|\n",
    "|Python\n",
    "|R\n",
    "|Nympy\n",
    "\n",
    "Below are a few examples of evaluating arithmetic expressions in Python:\n",
    "\n"
   ]
  },
  {
   "cell_type": "code",
   "execution_count": 17,
   "id": "61f8e3c2-706c-4eb4-b84c-8b95522a38cf",
   "metadata": {},
   "outputs": [
    {
     "data": {
      "text/plain": [
       "17"
      ]
     },
     "execution_count": 17,
     "metadata": {},
     "output_type": "execute_result"
    }
   ],
   "source": [
    "(3*4)+5"
   ]
  },
  {
   "cell_type": "code",
   "execution_count": 21,
   "id": "9f1a98cf-b39e-4a12-a695-7a489ce1de1d",
   "metadata": {},
   "outputs": [
    {
     "data": {
      "text/plain": [
       "3.3333333333333335"
      ]
     },
     "execution_count": 21,
     "metadata": {},
     "output_type": "execute_result"
    }
   ],
   "source": [
    "200/60\n",
    "\n",
    "## This will convert 200 minutes to hours by diving by 60"
   ]
  },
  {
   "cell_type": "markdown",
   "id": "86226040-2d22-4e9a-a6f8-44a6f7763b67",
   "metadata": {},
   "source": [
    "## Author\n",
    "Chris Hitchcock"
   ]
  },
  {
   "cell_type": "code",
   "execution_count": null,
   "id": "212b23a1-b06e-417c-91ef-0b708c70ecc8",
   "metadata": {},
   "outputs": [],
   "source": []
  }
 ],
 "metadata": {
  "kernelspec": {
   "display_name": "Python 3 (ipykernel)",
   "language": "python",
   "name": "python3"
  },
  "language_info": {
   "codemirror_mode": {
    "name": "ipython",
    "version": 3
   },
   "file_extension": ".py",
   "mimetype": "text/x-python",
   "name": "python",
   "nbconvert_exporter": "python",
   "pygments_lexer": "ipython3",
   "version": "3.12.7"
  }
 },
 "nbformat": 4,
 "nbformat_minor": 5
}
